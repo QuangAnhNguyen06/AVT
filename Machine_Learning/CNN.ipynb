{
 "cells": [
  {
   "cell_type": "code",
   "execution_count": 1,
   "id": "077a14ee",
   "metadata": {},
   "outputs": [],
   "source": [
    "import tensorflow as tf\n",
    "from tensorflow.keras import datasets, layers, models\n",
    "import matplotlib.pyplot as plt\n",
    "import numpy as np"
   ]
  },
  {
   "cell_type": "code",
   "execution_count": 2,
   "id": "a85bce64",
   "metadata": {},
   "outputs": [],
   "source": [
    "(X_train, y_train), (X_test,y_test) = datasets.cifar10.load_data()"
   ]
  },
  {
   "cell_type": "code",
   "execution_count": 3,
   "id": "c2d21e61",
   "metadata": {},
   "outputs": [],
   "source": [
    "classes = [\"airplane\",\"automobile\",\"bird\",\"cat\",\"deer\",\"dog\",\"frog\",\"horse\",\"ship\",\"truck\"]"
   ]
  },
  {
   "cell_type": "code",
   "execution_count": 4,
   "id": "e69eb1fc",
   "metadata": {},
   "outputs": [
    {
     "name": "stdout",
     "output_type": "stream",
     "text": [
      "(10000, 1)\n",
      "(50000, 1)\n",
      "(10000, 32, 32, 3)\n",
      "(50000, 32, 32, 3)\n"
     ]
    }
   ],
   "source": [
    "print(y_test.shape)\n",
    "print(y_train.shape)\n",
    "print(X_test.shape)\n",
    "print(X_train.shape)"
   ]
  },
  {
   "cell_type": "code",
   "execution_count": 6,
   "id": "11bfaadd",
   "metadata": {},
   "outputs": [
    {
     "data": {
      "text/plain": [
       "array([[3],\n",
       "       [8],\n",
       "       [8],\n",
       "       ...,\n",
       "       [5],\n",
       "       [1],\n",
       "       [7]], dtype=uint8)"
      ]
     },
     "execution_count": 6,
     "metadata": {},
     "output_type": "execute_result"
    }
   ],
   "source": [
    "y_test\n",
    "\n",
    "#array([[3],\n",
    "#       [8],\n",
    "#       [8],\n",
    "#       ...,\n",
    "#       [5],\n",
    "#       [1],\n",
    "#       [7]], dtype=uint8)"
   ]
  },
  {
   "cell_type": "code",
   "execution_count": 7,
   "id": "5a0c4534",
   "metadata": {},
   "outputs": [],
   "source": [
    "y_test = y_test.reshape(-1,)\n",
    "y_train = y_train.reshape(-1,)"
   ]
  },
  {
   "cell_type": "code",
   "execution_count": 8,
   "id": "b3d5353f",
   "metadata": {},
   "outputs": [
    {
     "data": {
      "text/plain": [
       "array([3, 8, 8, ..., 5, 1, 7], dtype=uint8)"
      ]
     },
     "execution_count": 8,
     "metadata": {},
     "output_type": "execute_result"
    }
   ],
   "source": [
    "y_test\n",
    "\n",
    "#array([3, 8, 8, ..., 5, 1, 7], dtype=uint8)"
   ]
  },
  {
   "cell_type": "code",
   "execution_count": 9,
   "id": "68987ff4",
   "metadata": {},
   "outputs": [],
   "source": [
    "def plot_sample(X, y, index):\n",
    "    plt.figure(figsize = (15,2))\n",
    "    plt.imshow(X[index])\n",
    "    plt.xlabel(classes[y[index]])"
   ]
  },
  {
   "cell_type": "code",
   "execution_count": 11,
   "id": "6b8c8f9f",
   "metadata": {},
   "outputs": [
    {
     "data": {
      "image/png": "[encoded data removed]",
      "text/plain": [
       "<Figure size 1080x144 with 1 Axes>"
      ]
     },
     "metadata": {
      "needs_background": "light"
     },
     "output_type": "display_data"
    }
   ],
   "source": [
    "plot_sample(X_train, y_train, 100)"
   ]
  },
  {
   "cell_type": "code",
   "execution_count": 12,
   "id": "cbed7bad",
   "metadata": {},
   "outputs": [],
   "source": [
    "X_train = X_train / 255.0\n",
    "X_test = X_test / 255.0"
   ]
  },
  {
   "cell_type": "code",
   "execution_count": 13,
   "id": "d54cd506",
   "metadata": {},
   "outputs": [
    {
     "data": {
      "text/plain": [
       "array([[0.38039216, 0.30588235, 0.21960784],\n",
       "       [0.36862745, 0.29411765, 0.20784314],\n",
       "       [0.36470588, 0.29411765, 0.20784314],\n",
       "       [0.38039216, 0.33333333, 0.23921569],\n",
       "       [0.37647059, 0.3372549 , 0.23921569],\n",
       "       [0.36862745, 0.32941176, 0.23137255],\n",
       "       [0.37647059, 0.3372549 , 0.23921569],\n",
       "       [0.30980392, 0.27843137, 0.17254902],\n",
       "       [0.30588235, 0.27058824, 0.15686275],\n",
       "       [0.36470588, 0.30588235, 0.19215686],\n",
       "       [0.41176471, 0.32941176, 0.20784314],\n",
       "       [0.41960784, 0.3372549 , 0.21960784],\n",
       "       [0.38431373, 0.33333333, 0.22745098],\n",
       "       [0.38823529, 0.3254902 , 0.22352941],\n",
       "       [0.41568627, 0.34117647, 0.24313725],\n",
       "       [0.46666667, 0.38431373, 0.29019608],\n",
       "       [0.40784314, 0.34509804, 0.24313725],\n",
       "       [0.40784314, 0.33333333, 0.22745098],\n",
       "       [0.41568627, 0.33333333, 0.21568627],\n",
       "       [0.47843137, 0.38823529, 0.2627451 ],\n",
       "       [0.41960784, 0.33333333, 0.21176471],\n",
       "       [0.43921569, 0.37647059, 0.25882353],\n",
       "       [0.36078431, 0.31764706, 0.20784314],\n",
       "       [0.31372549, 0.24313725, 0.15294118],\n",
       "       [0.37647059, 0.30588235, 0.23137255],\n",
       "       [0.30196078, 0.2627451 , 0.16470588],\n",
       "       [0.33333333, 0.29803922, 0.17254902],\n",
       "       [0.32941176, 0.29411765, 0.18823529],\n",
       "       [0.2627451 , 0.22352941, 0.14901961],\n",
       "       [0.21176471, 0.18431373, 0.10980392],\n",
       "       [0.24705882, 0.21960784, 0.14509804],\n",
       "       [0.28235294, 0.25490196, 0.18039216]])"
      ]
     },
     "execution_count": 13,
     "metadata": {},
     "output_type": "execute_result"
    }
   ],
   "source": [
    "X_train[3][31]"
   ]
  },
  {
   "cell_type": "code",
   "execution_count": null,
   "id": "e53f415f",
   "metadata": {},
   "outputs": [],
   "source": [
    "ann = models.Sequential([\n",
    "        layers.Flatten(input_shape=(32,32,3)),\n",
    "        layers.Dense(3000, activation='relu'),\n",
    "        layers.Dense(1000, activation='relu'),\n",
    "        layers.Dense(10, activation='softmax')    \n",
    "    ])\n",
    "\n",
    "ann.compile(optimizer='SGD',\n",
    "              loss='sparse_categorical_crossentropy',\n",
    "              metrics=['accuracy'])\n",
    "\n",
    "ann.fit(X_train, y_train, epochs=5)"
   ]
  },
  {
   "cell_type": "code",
   "execution_count": 14,
   "id": "9e82ad75",
   "metadata": {},
   "outputs": [],
   "source": [
    "cnn = models.Sequential([\n",
    "    layers.Conv2D(filters=32, kernel_size=(3, 3), activation='relu', input_shape=(32, 32, 3)),\n",
    "    layers.MaxPooling2D((2, 2)),\n",
    "    \n",
    "    layers.Conv2D(filters=64, kernel_size=(3, 3), activation='relu'),\n",
    "    layers.MaxPooling2D((2, 2)),\n",
    "    \n",
    "    layers.Flatten(),\n",
    "    layers.Dense(64, activation='relu'),\n",
    "    layers.Dense(10, activation='softmax')\n",
    "])"
   ]
  },
  {
   "cell_type": "code",
   "execution_count": 15,
   "id": "64b81a3a",
   "metadata": {},
   "outputs": [],
   "source": [
    "cnn.compile(optimizer='adam',\n",
    "              loss='sparse_categorical_crossentropy',\n",
    "              metrics=['accuracy'])"
   ]
  },
  {
   "cell_type": "code",
   "execution_count": 16,
   "id": "2438ff71",
   "metadata": {},
   "outputs": [
    {
     "name": "stdout",
     "output_type": "stream",
     "text": [
      "Epoch 1/10\n",
      "1563/1563 [==============================] - 35s 21ms/step - loss: 1.4507 - accuracy: 0.4792\n",
      "Epoch 2/10\n",
      "1563/1563 [==============================] - 34s 22ms/step - loss: 1.0886 - accuracy: 0.6214\n",
      "Epoch 3/10\n",
      "1563/1563 [==============================] - 31s 20ms/step - loss: 0.9547 - accuracy: 0.6678\n",
      "Epoch 4/10\n",
      "1563/1563 [==============================] - 31s 20ms/step - loss: 0.8709 - accuracy: 0.6978\n",
      "Epoch 5/10\n",
      "1563/1563 [==============================] - 34s 22ms/step - loss: 0.8036 - accuracy: 0.7210\n",
      "Epoch 6/10\n",
      "1563/1563 [==============================] - 35s 22ms/step - loss: 0.7480 - accuracy: 0.7398\n",
      "Epoch 7/10\n",
      "1563/1563 [==============================] - 39s 25ms/step - loss: 0.6931 - accuracy: 0.7581\n",
      "Epoch 8/10\n",
      "1563/1563 [==============================] - 40s 26ms/step - loss: 0.6458 - accuracy: 0.7741\n",
      "Epoch 9/10\n",
      "1563/1563 [==============================] - 40s 26ms/step - loss: 0.6038 - accuracy: 0.7890\n",
      "Epoch 10/10\n",
      "1563/1563 [==============================] - 43s 28ms/step - loss: 0.5614 - accuracy: 0.8037\n"
     ]
    },
    {
     "data": {
      "text/plain": [
       "<keras.callbacks.History at 0x1b28014d970>"
      ]
     },
     "execution_count": 16,
     "metadata": {},
     "output_type": "execute_result"
    }
   ],
   "source": [
    "cnn.fit(X_train, y_train, epochs=10)"
   ]
  },
  {
   "cell_type": "code",
   "execution_count": 17,
   "id": "a88f1607",
   "metadata": {},
   "outputs": [
    {
     "name": "stdout",
     "output_type": "stream",
     "text": [
      "313/313 [==============================] - 3s 8ms/step - loss: 0.9163 - accuracy: 0.7037\n"
     ]
    },
    {
     "data": {
      "text/plain": [
       "[0.9163316488265991, 0.7037000060081482]"
      ]
     },
     "execution_count": 17,
     "metadata": {},
     "output_type": "execute_result"
    }
   ],
   "source": [
    "cnn.evaluate(X_test,y_test)"
   ]
  },
  {
   "cell_type": "code",
   "execution_count": 21,
   "id": "6a999696",
   "metadata": {},
   "outputs": [
    {
     "name": "stdout",
     "output_type": "stream",
     "text": [
      "313/313 [==============================] - 3s 10ms/step\n"
     ]
    },
    {
     "data": {
      "text/plain": [
       "array([[3.62767349e-03, 7.98389228e-05, 9.53060482e-03, 9.33041453e-01,\n",
       "        1.37710921e-03, 1.67241655e-02, 1.42945573e-02, 1.05610229e-06,\n",
       "        2.12788805e-02, 4.47045859e-05],\n",
       "       [1.65143143e-02, 3.53129506e-01, 7.12037872e-05, 4.92306026e-06,\n",
       "        3.06685820e-07, 1.14148776e-07, 3.90709999e-07, 1.97659958e-07,\n",
       "        6.16930127e-01, 1.33489696e-02],\n",
       "       [1.11200079e-01, 3.53182584e-01, 2.88645495e-02, 6.05078340e-02,\n",
       "        1.05879195e-02, 5.09883929e-03, 1.23016639e-02, 8.52557924e-03,\n",
       "        3.71492952e-01, 3.82379293e-02],\n",
       "       [9.92162764e-01, 1.38557025e-05, 1.62803615e-03, 2.32881022e-04,\n",
       "        3.59633728e-03, 1.09739358e-06, 7.28128782e-07, 4.47218306e-04,\n",
       "        1.91592576e-03, 1.08314191e-06],\n",
       "       [1.01034885e-07, 6.12226067e-05, 1.85585003e-02, 2.92458609e-02,\n",
       "        2.88759589e-01, 2.16820254e-03, 6.61199510e-01, 8.43491605e-08,\n",
       "        6.84847373e-06, 3.14593365e-08]], dtype=float32)"
      ]
     },
     "execution_count": 21,
     "metadata": {},
     "output_type": "execute_result"
    }
   ],
   "source": [
    "y_pred = cnn.predict(X_test)\n",
    "y_pred[:5]"
   ]
  },
  {
   "cell_type": "code",
   "execution_count": 22,
   "id": "8ee58871",
   "metadata": {},
   "outputs": [
    {
     "data": {
      "text/plain": [
       "[3, 8, 8, 0, 6]"
      ]
     },
     "execution_count": 22,
     "metadata": {},
     "output_type": "execute_result"
    }
   ],
   "source": [
    "y_classes = [np.argmax(element) for element in y_pred]\n",
    "y_classes[:5]"
   ]
  },
  {
   "cell_type": "code",
   "execution_count": 23,
   "id": "a1ef79e7",
   "metadata": {},
   "outputs": [
    {
     "data": {
      "image/png": "[encoded data removed]",
      "text/plain": [
       "<Figure size 1080x144 with 1 Axes>"
      ]
     },
     "metadata": {
      "needs_background": "light"
     },
     "output_type": "display_data"
    }
   ],
   "source": [
    "plot_sample(X_test, y_test,3)"
   ]
  },
  {
   "cell_type": "code",
   "execution_count": 37,
   "id": "da6f09eb",
   "metadata": {
    "scrolled": true
   },
   "outputs": [
    {
     "data": {
      "text/plain": [
       "<tf.Tensor: shape=(10, 10), dtype=int32, numpy=\n",
       "array([[742,  19,  82,  17,   9,   9,   9,   8,  74,  31],\n",
       "       [ 32, 773,   9,  13,   4,   7,  11,   0,  27, 124],\n",
       "       [ 57,   7, 692,  54,  50,  40,  60,  19,  13,   8],\n",
       "       [ 30,   6, 118, 525,  63, 126,  67,  28,  20,  17],\n",
       "       [ 23,   2, 141,  62, 616,  22,  62,  51,  16,   5],\n",
       "       [ 18,   5,  98, 222,  33, 534,  25,  47,  11,   7],\n",
       "       [  9,   4,  67,  62,  24,  11, 804,   5,  10,   4],\n",
       "       [ 25,   4,  72,  47,  61,  49,   8, 710,   8,  16],\n",
       "       [ 56,  28,  18,  19,   4,   7,   6,   6, 833,  23],\n",
       "       [ 35,  53,  18,  16,   3,   5,   9,  12,  41, 808]])>"
      ]
     },
     "execution_count": 37,
     "metadata": {},
     "output_type": "execute_result"
    }
   ],
   "source": [
    "cm = tf.math.confusion_matrix(labels=y_test,predictions=np.array(y_classes))\n",
    "cm"
   ]
  },
  {
   "cell_type": "code",
   "execution_count": 38,
   "id": "b5f4a6e3",
   "metadata": {},
   "outputs": [
    {
     "data": {
      "text/plain": [
       "Text(69.0, 0.5, 'Truth')"
      ]
     },
     "execution_count": 38,
     "metadata": {},
     "output_type": "execute_result"
    },
    {
     "data": {
      "image/png": "[encoded data removed]",
      "text/plain": [
       "<Figure size 720x504 with 2 Axes>"
      ]
     },
     "metadata": {
      "needs_background": "light"
     },
     "output_type": "display_data"
    }
   ],
   "source": [
    "import seaborn as sn\n",
    "plt.figure(figsize = (10,7))\n",
    "sn.heatmap(cm, annot=True, fmt='d')\n",
    "plt.xlabel('Dự đoán')\n",
    "plt.ylabel('Truth')"
   ]
  }
 ],
 "metadata": {
  "kernelspec": {
   "display_name": "Python 3 (ipykernel)",
   "language": "python",
   "name": "python3"
  },
  "language_info": {
   "codemirror_mode": {
    "name": "ipython",
    "version": 3
   },
   "file_extension": ".py",
   "mimetype": "text/x-python",
   "name": "python",
   "nbconvert_exporter": "python",
   "pygments_lexer": "ipython3",
   "version": "3.9.2"
  }
 },
 "nbformat": 4,
 "nbformat_minor": 5
}
